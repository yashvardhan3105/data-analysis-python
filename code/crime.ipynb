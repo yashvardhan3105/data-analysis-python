{
 "cells": [
  {
   "cell_type": "markdown",
   "metadata": {},
   "source": [
    "Installing Requirements"
   ]
  },
  {
   "cell_type": "code",
   "execution_count": 1,
   "metadata": {},
   "outputs": [
    {
     "name": "stdout",
     "output_type": "stream",
     "text": [
      "Requirement already satisfied: seaborn in c:\\users\\yashv\\appdata\\roaming\\python\\python312\\site-packages (0.13.2)\n",
      "Requirement already satisfied: numpy!=1.24.0,>=1.20 in c:\\python312\\lib\\site-packages (from seaborn) (2.1.1)\n",
      "Requirement already satisfied: pandas>=1.2 in c:\\python312\\lib\\site-packages (from seaborn) (2.2.3)\n",
      "Requirement already satisfied: matplotlib!=3.6.1,>=3.4 in c:\\users\\yashv\\appdata\\roaming\\python\\python312\\site-packages (from seaborn) (3.9.2)\n",
      "Requirement already satisfied: contourpy>=1.0.1 in c:\\users\\yashv\\appdata\\roaming\\python\\python312\\site-packages (from matplotlib!=3.6.1,>=3.4->seaborn) (1.3.0)\n",
      "Requirement already satisfied: cycler>=0.10 in c:\\users\\yashv\\appdata\\roaming\\python\\python312\\site-packages (from matplotlib!=3.6.1,>=3.4->seaborn) (0.12.1)\n",
      "Requirement already satisfied: fonttools>=4.22.0 in c:\\python312\\lib\\site-packages (from matplotlib!=3.6.1,>=3.4->seaborn) (4.53.1)\n",
      "Requirement already satisfied: kiwisolver>=1.3.1 in c:\\python312\\lib\\site-packages (from matplotlib!=3.6.1,>=3.4->seaborn) (1.4.7)\n",
      "Requirement already satisfied: packaging>=20.0 in c:\\users\\yashv\\appdata\\roaming\\python\\python312\\site-packages (from matplotlib!=3.6.1,>=3.4->seaborn) (24.1)\n",
      "Requirement already satisfied: pillow>=8 in c:\\python312\\lib\\site-packages (from matplotlib!=3.6.1,>=3.4->seaborn) (10.4.0)\n",
      "Requirement already satisfied: pyparsing>=2.3.1 in c:\\python312\\lib\\site-packages (from matplotlib!=3.6.1,>=3.4->seaborn) (3.1.4)\n",
      "Requirement already satisfied: python-dateutil>=2.7 in c:\\users\\yashv\\appdata\\roaming\\python\\python312\\site-packages (from matplotlib!=3.6.1,>=3.4->seaborn) (2.9.0.post0)\n",
      "Requirement already satisfied: pytz>=2020.1 in c:\\python312\\lib\\site-packages (from pandas>=1.2->seaborn) (2024.2)\n",
      "Requirement already satisfied: tzdata>=2022.7 in c:\\python312\\lib\\site-packages (from pandas>=1.2->seaborn) (2024.1)\n",
      "Requirement already satisfied: six>=1.5 in c:\\users\\yashv\\appdata\\roaming\\python\\python312\\site-packages (from python-dateutil>=2.7->matplotlib!=3.6.1,>=3.4->seaborn) (1.16.0)\n",
      "Note: you may need to restart the kernel to use updated packages.\n"
     ]
    },
    {
     "name": "stderr",
     "output_type": "stream",
     "text": [
      "\n",
      "[notice] A new release of pip is available: 24.2 -> 24.3.1\n",
      "[notice] To update, run: python.exe -m pip install --upgrade pip\n"
     ]
    }
   ],
   "source": [
    "%pip install seaborn"
   ]
  },
  {
   "cell_type": "code",
   "execution_count": 3,
   "metadata": {},
   "outputs": [
    {
     "name": "stdout",
     "output_type": "stream",
     "text": [
      "Requirement already satisfied: numpy in c:\\python312\\lib\\site-packages (2.1.1)Note: you may need to restart the kernel to use updated packages.\n",
      "\n"
     ]
    },
    {
     "name": "stderr",
     "output_type": "stream",
     "text": [
      "\n",
      "[notice] A new release of pip is available: 24.2 -> 24.3.1\n",
      "[notice] To update, run: python.exe -m pip install --upgrade pip\n"
     ]
    }
   ],
   "source": [
    "%pip install numpy"
   ]
  },
  {
   "cell_type": "code",
   "execution_count": 5,
   "metadata": {},
   "outputs": [
    {
     "name": "stdout",
     "output_type": "stream",
     "text": [
      "Requirement already satisfied: pandas in c:\\python312\\lib\\site-packages (2.2.3)\n",
      "Requirement already satisfied: numpy>=1.26.0 in c:\\python312\\lib\\site-packages (from pandas) (2.1.1)\n",
      "Requirement already satisfied: python-dateutil>=2.8.2 in c:\\users\\yashv\\appdata\\roaming\\python\\python312\\site-packages (from pandas) (2.9.0.post0)\n",
      "Requirement already satisfied: pytz>=2020.1 in c:\\python312\\lib\\site-packages (from pandas) (2024.2)\n",
      "Requirement already satisfied: tzdata>=2022.7 in c:\\python312\\lib\\site-packages (from pandas) (2024.1)\n",
      "Requirement already satisfied: six>=1.5 in c:\\users\\yashv\\appdata\\roaming\\python\\python312\\site-packages (from python-dateutil>=2.8.2->pandas) (1.16.0)\n",
      "Note: you may need to restart the kernel to use updated packages.\n"
     ]
    },
    {
     "name": "stderr",
     "output_type": "stream",
     "text": [
      "\n",
      "[notice] A new release of pip is available: 24.2 -> 24.3.1\n",
      "[notice] To update, run: python.exe -m pip install --upgrade pip\n"
     ]
    }
   ],
   "source": [
    "%pip install pandas"
   ]
  },
  {
   "cell_type": "code",
   "execution_count": 6,
   "metadata": {},
   "outputs": [
    {
     "name": "stdout",
     "output_type": "stream",
     "text": [
      "Requirement already satisfied: matplotlib in c:\\users\\yashv\\appdata\\roaming\\python\\python312\\site-packages (3.9.2)\n",
      "Requirement already satisfied: contourpy>=1.0.1 in c:\\users\\yashv\\appdata\\roaming\\python\\python312\\site-packages (from matplotlib) (1.3.0)\n",
      "Requirement already satisfied: cycler>=0.10 in c:\\users\\yashv\\appdata\\roaming\\python\\python312\\site-packages (from matplotlib) (0.12.1)\n",
      "Requirement already satisfied: fonttools>=4.22.0 in c:\\python312\\lib\\site-packages (from matplotlib) (4.53.1)\n",
      "Requirement already satisfied: kiwisolver>=1.3.1 in c:\\python312\\lib\\site-packages (from matplotlib) (1.4.7)\n",
      "Requirement already satisfied: numpy>=1.23 in c:\\python312\\lib\\site-packages (from matplotlib) (2.1.1)\n",
      "Requirement already satisfied: packaging>=20.0 in c:\\users\\yashv\\appdata\\roaming\\python\\python312\\site-packages (from matplotlib) (24.1)\n",
      "Requirement already satisfied: pillow>=8 in c:\\python312\\lib\\site-packages (from matplotlib) (10.4.0)\n",
      "Requirement already satisfied: pyparsing>=2.3.1 in c:\\python312\\lib\\site-packages (from matplotlib) (3.1.4)\n",
      "Requirement already satisfied: python-dateutil>=2.7 in c:\\users\\yashv\\appdata\\roaming\\python\\python312\\site-packages (from matplotlib) (2.9.0.post0)\n",
      "Requirement already satisfied: six>=1.5 in c:\\users\\yashv\\appdata\\roaming\\python\\python312\\site-packages (from python-dateutil>=2.7->matplotlib) (1.16.0)\n",
      "Note: you may need to restart the kernel to use updated packages.\n"
     ]
    },
    {
     "name": "stderr",
     "output_type": "stream",
     "text": [
      "\n",
      "[notice] A new release of pip is available: 24.2 -> 24.3.1\n",
      "[notice] To update, run: python.exe -m pip install --upgrade pip\n"
     ]
    }
   ],
   "source": [
    "%pip install matplotlib --user"
   ]
  },
  {
   "cell_type": "code",
   "execution_count": 7,
   "metadata": {},
   "outputs": [
    {
     "name": "stdout",
     "output_type": "stream",
     "text": [
      "Requirement already satisfied: seaborn in c:\\users\\yashv\\appdata\\roaming\\python\\python312\\site-packages (0.13.2)\n",
      "Requirement already satisfied: numpy!=1.24.0,>=1.20 in c:\\python312\\lib\\site-packages (from seaborn) (2.1.1)\n",
      "Requirement already satisfied: pandas>=1.2 in c:\\python312\\lib\\site-packages (from seaborn) (2.2.3)\n",
      "Requirement already satisfied: matplotlib!=3.6.1,>=3.4 in c:\\users\\yashv\\appdata\\roaming\\python\\python312\\site-packages (from seaborn) (3.9.2)\n",
      "Requirement already satisfied: contourpy>=1.0.1 in c:\\users\\yashv\\appdata\\roaming\\python\\python312\\site-packages (from matplotlib!=3.6.1,>=3.4->seaborn) (1.3.0)\n",
      "Requirement already satisfied: cycler>=0.10 in c:\\users\\yashv\\appdata\\roaming\\python\\python312\\site-packages (from matplotlib!=3.6.1,>=3.4->seaborn) (0.12.1)\n",
      "Requirement already satisfied: fonttools>=4.22.0 in c:\\python312\\lib\\site-packages (from matplotlib!=3.6.1,>=3.4->seaborn) (4.53.1)\n",
      "Requirement already satisfied: kiwisolver>=1.3.1 in c:\\python312\\lib\\site-packages (from matplotlib!=3.6.1,>=3.4->seaborn) (1.4.7)\n",
      "Requirement already satisfied: packaging>=20.0 in c:\\users\\yashv\\appdata\\roaming\\python\\python312\\site-packages (from matplotlib!=3.6.1,>=3.4->seaborn) (24.1)\n",
      "Requirement already satisfied: pillow>=8 in c:\\python312\\lib\\site-packages (from matplotlib!=3.6.1,>=3.4->seaborn) (10.4.0)\n",
      "Requirement already satisfied: pyparsing>=2.3.1 in c:\\python312\\lib\\site-packages (from matplotlib!=3.6.1,>=3.4->seaborn) (3.1.4)\n",
      "Requirement already satisfied: python-dateutil>=2.7 in c:\\users\\yashv\\appdata\\roaming\\python\\python312\\site-packages (from matplotlib!=3.6.1,>=3.4->seaborn) (2.9.0.post0)\n",
      "Requirement already satisfied: pytz>=2020.1 in c:\\python312\\lib\\site-packages (from pandas>=1.2->seaborn) (2024.2)\n",
      "Requirement already satisfied: tzdata>=2022.7 in c:\\python312\\lib\\site-packages (from pandas>=1.2->seaborn) (2024.1)\n",
      "Requirement already satisfied: six>=1.5 in c:\\users\\yashv\\appdata\\roaming\\python\\python312\\site-packages (from python-dateutil>=2.7->matplotlib!=3.6.1,>=3.4->seaborn) (1.16.0)\n",
      "Note: you may need to restart the kernel to use updated packages.\n"
     ]
    },
    {
     "name": "stderr",
     "output_type": "stream",
     "text": [
      "\n",
      "[notice] A new release of pip is available: 24.2 -> 24.3.1\n",
      "[notice] To update, run: python.exe -m pip install --upgrade pip\n"
     ]
    }
   ],
   "source": [
    "%pip install seaborn --user"
   ]
  },
  {
   "cell_type": "code",
   "execution_count": null,
   "metadata": {},
   "outputs": [
    {
     "name": "stdout",
     "output_type": "stream",
     "text": [
      "                        STATE/UT  Year  Population  Literates - Males  \\\n",
      "14                ANDHRA PRADESH  2001    75728400           23444788   \n",
      "28             ARUNACHAL PRADESH  2001     1098328             303281   \n",
      "42                         ASSAM  2001    26638600            8188697   \n",
      "0    Andaman and Nicobar Islands  2001      356650             146831   \n",
      "56                         BIHAR  2001    82879910           20644376   \n",
      "..                           ...   ...         ...                ...   \n",
      "433                   TAMIL NADU  2014    72138958           28040491   \n",
      "447                      TRIPURA  2014     3671032            1501369   \n",
      "461                UTTAR PRADESH  2014   199581477           68234964   \n",
      "475                  UTTARAKHAND  2014    10116752            3863708   \n",
      "489                  WEST BENGAL  2014    91347736           33818810   \n",
      "\n",
      "     Literates - Females  Population - Males  Population - Females  Year.1  \\\n",
      "14              16489535            22807968              22414768    2001   \n",
      "28                181504              579941                518027    2001   \n",
      "42               5826657            13777037              12878491    2001   \n",
      "0                 106304              192972                163180    2001   \n",
      "56              10465201            43243795              39754714    2001   \n",
      "..                   ...                 ...                   ...     ...   \n",
      "433             23797016            36137975              36009055    2014   \n",
      "447              1303414             1874376               1799541    2014   \n",
      "461             46162591           104480510              95331831    2014   \n",
      "475              3017245             5137773               4948519    2014   \n",
      "489             27719471            46809027              44467088    2014   \n",
      "\n",
      "     Rape  Kidnapping and Abduction  Dowry Deaths  \\\n",
      "14    871                       765           420   \n",
      "28     33                        55             0   \n",
      "42    817                      1070            59   \n",
      "0       3                         2             0   \n",
      "56    888                       518           859   \n",
      "..    ...                       ...           ...   \n",
      "433   455                      1502            95   \n",
      "447   239                       102            33   \n",
      "461  3467                     10626          2469   \n",
      "475   270                       275            38   \n",
      "489  1466                      4976           501   \n",
      "\n",
      "     Assault on women with intent to outrage her modesty  \\\n",
      "14                                                3544     \n",
      "28                                                  78     \n",
      "42                                                 850     \n",
      "0                                                   19     \n",
      "56                                                 562     \n",
      "..                                                 ...     \n",
      "433                                               1102     \n",
      "447                                                492     \n",
      "461                                               8605     \n",
      "475                                                343     \n",
      "489                                               5670     \n",
      "\n",
      "     Insult to modesty of Women  Cruelty by Husband or his Relatives  \\\n",
      "14                         2271                                 5791   \n",
      "28                            3                                   11   \n",
      "42                            4                                 1248   \n",
      "0                             1                                    9   \n",
      "56                           21                                 1558   \n",
      "..                          ...                                  ...   \n",
      "433                         229                                 2103   \n",
      "447                          11                                  702   \n",
      "461                          29                                10471   \n",
      "475                           4                                  301   \n",
      "489                         543                                23278   \n",
      "\n",
      "     Importation of Girls  Total Crimes against Women  \n",
      "14                      7                       13669  \n",
      "28                      0                         180  \n",
      "42                      0                        4048  \n",
      "0                       0                          34  \n",
      "56                     83                        4489  \n",
      "..                    ...                         ...  \n",
      "433                     0                        5486  \n",
      "447                     0                        1579  \n",
      "461                     0                       35667  \n",
      "475                     0                        1231  \n",
      "489                     4                       36438  \n",
      "\n",
      "[490 rows x 16 columns]\n"
     ]
    },
    {
     "data": {
      "image/png": "[encoded data removed]",
      "text/plain": [
       "<Figure size 640x480 with 1 Axes>"
      ]
     },
     "metadata": {},
     "output_type": "display_data"
    },
    {
     "data": {
      "text/plain": [
       "<Figure size 1000x600 with 0 Axes>"
      ]
     },
     "metadata": {},
     "output_type": "display_data"
    }
   ],
   "source": [
    "import pandas as pd\n",
    "import numpy as np\n",
    "import matplotlib.pyplot as plt\n",
    "import seaborn as sns\n",
    "\n",
    "# Load the data into a Pandas DataFrame\n",
    "data = pd.read_csv(\"../data/DataOfCrimesInIndiaAgainstWomen.csv\") \n",
    "\n",
    "# Sorting Year and States Accordingly\n",
    "data.sort_values(by=['Year', 'STATE/UT'], inplace=True)\n",
    "data = data.fillna(0)\n",
    "\n",
    "print(data)\n",
    "\n",
    "# Plotting the line graph with '--' markers\n",
    "x = data.get(\"Year\")\n",
    "y = data.get(\"Total Crimes against Women\")\n",
    "plt.plot(x, y, linestyle='--', color='green')\n",
    "plt.xlabel('Year')\n",
    "plt.ylabel('Total Crimes Against Women')\n",
    "plt.title('Trend of Total Crimes Against Women')\n",
    "plt.figure(figsize=(10, 6))\n",
    "plt.show()\n",
    "\n",
    "\n"
   ]
  },
  {
   "cell_type": "code",
   "execution_count": null,
   "metadata": {},
   "outputs": [
    {
     "name": "stdout",
     "output_type": "stream",
     "text": [
      "                        STATE/UT  Year  Population  Literates - Males  \\\n",
      "14                ANDHRA PRADESH  2001    75728400           23444788   \n",
      "28             ARUNACHAL PRADESH  2001     1098328             303281   \n",
      "42                         ASSAM  2001    26638600            8188697   \n",
      "0    Andaman and Nicobar Islands  2001      356650             146831   \n",
      "56                         BIHAR  2001    82879910           20644376   \n",
      "..                           ...   ...         ...                ...   \n",
      "433                   TAMIL NADU  2014    72138958           28040491   \n",
      "447                      TRIPURA  2014     3671032            1501369   \n",
      "461                UTTAR PRADESH  2014   199581477           68234964   \n",
      "475                  UTTARAKHAND  2014    10116752            3863708   \n",
      "489                  WEST BENGAL  2014    91347736           33818810   \n",
      "\n",
      "     Literates - Females  Population - Males  Population - Females  Year.1  \\\n",
      "14              16489535            22807968              22414768    2001   \n",
      "28                181504              579941                518027    2001   \n",
      "42               5826657            13777037              12878491    2001   \n",
      "0                 106304              192972                163180    2001   \n",
      "56              10465201            43243795              39754714    2001   \n",
      "..                   ...                 ...                   ...     ...   \n",
      "433             23797016            36137975              36009055    2014   \n",
      "447              1303414             1874376               1799541    2014   \n",
      "461             46162591           104480510              95331831    2014   \n",
      "475              3017245             5137773               4948519    2014   \n",
      "489             27719471            46809027              44467088    2014   \n",
      "\n",
      "     Rape  Kidnapping and Abduction  Dowry Deaths  \\\n",
      "14    871                       765           420   \n",
      "28     33                        55             0   \n",
      "42    817                      1070            59   \n",
      "0       3                         2             0   \n",
      "56    888                       518           859   \n",
      "..    ...                       ...           ...   \n",
      "433   455                      1502            95   \n",
      "447   239                       102            33   \n",
      "461  3467                     10626          2469   \n",
      "475   270                       275            38   \n",
      "489  1466                      4976           501   \n",
      "\n",
      "     Assault on women with intent to outrage her modesty  \\\n",
      "14                                                3544     \n",
      "28                                                  78     \n",
      "42                                                 850     \n",
      "0                                                   19     \n",
      "56                                                 562     \n",
      "..                                                 ...     \n",
      "433                                               1102     \n",
      "447                                                492     \n",
      "461                                               8605     \n",
      "475                                                343     \n",
      "489                                               5670     \n",
      "\n",
      "     Insult to modesty of Women  Cruelty by Husband or his Relatives  \\\n",
      "14                         2271                                 5791   \n",
      "28                            3                                   11   \n",
      "42                            4                                 1248   \n",
      "0                             1                                    9   \n",
      "56                           21                                 1558   \n",
      "..                          ...                                  ...   \n",
      "433                         229                                 2103   \n",
      "447                          11                                  702   \n",
      "461                          29                                10471   \n",
      "475                           4                                  301   \n",
      "489                         543                                23278   \n",
      "\n",
      "     Importation of Girls  Total Crimes against Women  \n",
      "14                      7                       13669  \n",
      "28                      0                         180  \n",
      "42                      0                        4048  \n",
      "0                       0                          34  \n",
      "56                     83                        4489  \n",
      "..                    ...                         ...  \n",
      "433                     0                        5486  \n",
      "447                     0                        1579  \n",
      "461                     0                       35667  \n",
      "475                     0                        1231  \n",
      "489                     4                       36438  \n",
      "\n",
      "[490 rows x 16 columns]\n"
     ]
    }
   ],
   "source": []
  },
  {
   "cell_type": "code",
   "execution_count": null,
   "metadata": {},
   "outputs": [],
   "source": []
  }
 ],
 "metadata": {
  "kernelspec": {
   "display_name": "Python 3",
   "language": "python",
   "name": "python3"
  },
  "language_info": {
   "codemirror_mode": {
    "name": "ipython",
    "version": 3
   },
   "file_extension": ".py",
   "mimetype": "text/x-python",
   "name": "python",
   "nbconvert_exporter": "python",
   "pygments_lexer": "ipython3",
   "version": "3.12.5"
  }
 },
 "nbformat": 4,
 "nbformat_minor": 2
}
